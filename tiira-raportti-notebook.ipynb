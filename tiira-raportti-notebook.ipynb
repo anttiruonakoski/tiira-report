{
 "cells": [
  {
   "cell_type": "code",
   "execution_count": 3,
   "metadata": {},
   "outputs": [
    {
     "data": {
      "text/plain": [
       "Havainto id                   int64\n",
       "Laji                         object\n",
       "Pvm1                 datetime64[ns]\n",
       "Pvm2                 datetime64[ns]\n",
       "Kello_hav_1                  object\n",
       "Kello_hav_2                  object\n",
       "Kunta                        object\n",
       "Paikka                       object\n",
       "X-koord                     float64\n",
       "Y-koord                     float64\n",
       "Tarkkuus                     object\n",
       "X-koord-linnun              float64\n",
       "Y-koord-linnun              float64\n",
       "Tarkkuus_linnun              object\n",
       "Paikannettu                  object\n",
       "Lisätietoja                  object\n",
       "Atlaskoodi                  float64\n",
       "Tallentaja                   object\n",
       "Tallennusaika        datetime64[ns]\n",
       "Havainnoijat                 object\n",
       "Salattu                      object\n",
       "Tallenteita                  object\n",
       "Koontihavainto               object\n",
       "Kuuluu havaintoon           float64\n",
       "Määrä                       float64\n",
       "Kello_lintu_1                object\n",
       "Kello_lintu_2                object\n",
       "Sukupuoli                    object\n",
       "Puku                         object\n",
       "Ikä                          object\n",
       "Tila                         object\n",
       "Lisätietoja_2                object\n",
       "Parvi                       float64\n",
       "Bongattu                     object\n",
       "Pesintä                      object\n",
       "Epäsuora havainto           float64\n",
       "rivityyppi                   object\n",
       "rivejä                        int64\n",
       "dtype: object"
      ]
     },
     "execution_count": 3,
     "metadata": {},
     "output_type": "execute_result"
    }
   ],
   "source": [
    "import numpy as np\n",
    "import pandas as pd\n",
    "parse_dates = ['Tallennusaika','Pvm1','Pvm2']\n",
    "\n",
    "df = pd.read_csv('downloader/tiira.csv',sep='#',parse_dates=parse_dates)\n",
    "df.dtypes"
   ]
  },
  {
   "cell_type": "code",
   "execution_count": 5,
   "metadata": {},
   "outputs": [
    {
     "data": {
      "text/html": [
       "<div>\n",
       "<style scoped>\n",
       "    .dataframe tbody tr th:only-of-type {\n",
       "        vertical-align: middle;\n",
       "    }\n",
       "\n",
       "    .dataframe tbody tr th {\n",
       "        vertical-align: top;\n",
       "    }\n",
       "\n",
       "    .dataframe thead th {\n",
       "        text-align: right;\n",
       "    }\n",
       "</style>\n",
       "<table border=\"1\" class=\"dataframe\">\n",
       "  <thead>\n",
       "    <tr style=\"text-align: right;\">\n",
       "      <th></th>\n",
       "      <th>Havainto id</th>\n",
       "      <th>Laji</th>\n",
       "      <th>Pvm1</th>\n",
       "      <th>Pvm2</th>\n",
       "      <th>Kello_hav_1</th>\n",
       "      <th>Kello_hav_2</th>\n",
       "      <th>Kunta</th>\n",
       "      <th>Paikka</th>\n",
       "      <th>X-koord</th>\n",
       "      <th>Y-koord</th>\n",
       "      <th>...</th>\n",
       "      <th>Puku</th>\n",
       "      <th>Ikä</th>\n",
       "      <th>Tila</th>\n",
       "      <th>Lisätietoja_2</th>\n",
       "      <th>Parvi</th>\n",
       "      <th>Bongattu</th>\n",
       "      <th>Pesintä</th>\n",
       "      <th>Epäsuora havainto</th>\n",
       "      <th>rivityyppi</th>\n",
       "      <th>rivejä</th>\n",
       "    </tr>\n",
       "  </thead>\n",
       "  <tbody>\n",
       "    <tr>\n",
       "      <th>0</th>\n",
       "      <td>18375945</td>\n",
       "      <td>järripeippo</td>\n",
       "      <td>2018-09-13</td>\n",
       "      <td>NaT</td>\n",
       "      <td>07:00:00</td>\n",
       "      <td>16:00:00</td>\n",
       "      <td>Rovaniemi</td>\n",
       "      <td>Korkalovaara</td>\n",
       "      <td>439911.0</td>\n",
       "      <td>7378274.3</td>\n",
       "      <td>...</td>\n",
       "      <td>NaN</td>\n",
       "      <td>NaN</td>\n",
       "      <td>p</td>\n",
       "      <td>NaN</td>\n",
       "      <td>nan</td>\n",
       "      <td>NaN</td>\n",
       "      <td>NaN</td>\n",
       "      <td>nan</td>\n",
       "      <td>HAVAINTO</td>\n",
       "      <td>1</td>\n",
       "    </tr>\n",
       "    <tr>\n",
       "      <th>1</th>\n",
       "      <td>18375946</td>\n",
       "      <td>peippo</td>\n",
       "      <td>2018-09-13</td>\n",
       "      <td>NaT</td>\n",
       "      <td>07:00:00</td>\n",
       "      <td>16:00:00</td>\n",
       "      <td>Rovaniemi</td>\n",
       "      <td>Korkalovaara</td>\n",
       "      <td>439911.0</td>\n",
       "      <td>7378274.3</td>\n",
       "      <td>...</td>\n",
       "      <td>NaN</td>\n",
       "      <td>NaN</td>\n",
       "      <td>p</td>\n",
       "      <td>NaN</td>\n",
       "      <td>nan</td>\n",
       "      <td>NaN</td>\n",
       "      <td>NaN</td>\n",
       "      <td>nan</td>\n",
       "      <td>HAVAINTO</td>\n",
       "      <td>1</td>\n",
       "    </tr>\n",
       "  </tbody>\n",
       "</table>\n",
       "<p>2 rows × 38 columns</p>\n",
       "</div>"
      ],
      "text/plain": [
       "   Havainto id         Laji       Pvm1 Pvm2 Kello_hav_1 Kello_hav_2  \\\n",
       "0     18375945  järripeippo 2018-09-13  NaT    07:00:00    16:00:00   \n",
       "1     18375946       peippo 2018-09-13  NaT    07:00:00    16:00:00   \n",
       "\n",
       "       Kunta        Paikka  X-koord   Y-koord  ...   Puku  Ikä  Tila  \\\n",
       "0  Rovaniemi  Korkalovaara 439911.0 7378274.3  ...    NaN  NaN     p   \n",
       "1  Rovaniemi  Korkalovaara 439911.0 7378274.3  ...    NaN  NaN     p   \n",
       "\n",
       "  Lisätietoja_2 Parvi Bongattu  Pesintä Epäsuora havainto rivityyppi rivejä  \n",
       "0           NaN   nan      NaN      NaN               nan   HAVAINTO      1  \n",
       "1           NaN   nan      NaN      NaN               nan   HAVAINTO      1  \n",
       "\n",
       "[2 rows x 38 columns]"
      ]
     },
     "execution_count": 5,
     "metadata": {},
     "output_type": "execute_result"
    }
   ],
   "source": [
    "pd.set_option('float_format', '{:.1f}'.format)\n",
    "df.describe(include=[np.number,np.datetime64])\n",
    "df.head(2)"
   ]
  },
  {
   "cell_type": "code",
   "execution_count": null,
   "metadata": {},
   "outputs": [],
   "source": [
    "def timeframe(data, days=7):\n",
    "    \n",
    "    #get data start n days ago, end now\n",
    "    start = pd.Timedelta(-days, unit='d') + pd.datetime.now()\n",
    "    #print(f'alku {start}')\n",
    "    dataframe = data[(data['Tallennusaika'] > start)]\n",
    "    return dataframe\n",
    "\n",
    "df_last_7 = timeframe(df,7)\n",
    "df_last_30 = timeframe(df,30)\n",
    "\n",
    "pd.set_option('float_format', '{:.1f}'.format)\n",
    "df_last_7.describe(include=[np.number,np.datetime64])\n",
    "#df_last_30.describe(include=[np.number,np.datetime64])\n"
   ]
  },
  {
   "cell_type": "code",
   "execution_count": null,
   "metadata": {},
   "outputs": [],
   "source": [
    "from datetime import datetime, timedelta\n",
    "\n",
    "def begin_time(days=7):    \n",
    "    s = pd.Timedelta(-days, unit='d') + pd.datetime.now()\n",
    "    return s\n",
    "\n",
    "def recentdays(days=7):\n",
    "    return df['Tallennusaika'] > begin_time(days)\n",
    "\n",
    "pd.set_option('float_format', '{:.1f}'.format)    \n",
    "#df[recentdays(30)].describe(include=[np.number,np.datetime64])\n",
    "df[recentdays(11)].describe(include=[np.number,np.datetime64])\n",
    "    \n",
    "    \n",
    "#df_last_7 = timeframe(df,7)\n",
    "\n",
    "\n",
    "\n",
    "#df_last_7.describe(include=[np.number,np.datetime64])\n",
    "#df_last_30.describe(include=[np.number,np.datetime64])"
   ]
  },
  {
   "cell_type": "code",
   "execution_count": null,
   "metadata": {},
   "outputs": [],
   "source": [
    "data7 = timeframe(df,7).groupby(['Laji'], as_index=False, sort=False).agg({'Määrä': sum, 'Havainto id': 'count'})\n",
    "data7.columns = ['laji','yksilosumma','havaintorivisumma']\n",
    "\n",
    "data7"
   ]
  },
  {
   "cell_type": "code",
   "execution_count": null,
   "metadata": {},
   "outputs": [],
   "source": [
    "dataavg = timeframe(df,7).groupby(['Laji'], as_index=False, sort=False).agg({'Määrä': sum, 'Havainto id': 'count'})\n",
    "data7.columns = ['laji','yksilosumma','havaintorivisumma']\n",
    "\n",
    "data7"
   ]
  },
  {
   "cell_type": "code",
   "execution_count": null,
   "metadata": {},
   "outputs": [],
   "source": [
    "pd.set_option(\"display.precision\",0)\n",
    "\n",
    "sum_species = data7.sort_values(by=['yksilosumma'],ascending=False);\n",
    "\n",
    "#sum_species_30 = timeframe(df,30).groupby(['Laji'], as_index=False, sort=False)[[\"yksilosumma\"]].sum().sort_values(by=['yksilosumma'],ascending=False);\n",
    "\n",
    "sum_species.head(10)\n"
   ]
  },
  {
   "cell_type": "code",
   "execution_count": null,
   "metadata": {
    "scrolled": true
   },
   "outputs": [],
   "source": [
    "sum_ind = timeframe(df,30)['Määrä'].sum()\n",
    "\n",
    "print (f'yksilöitä 30 päivän aikana yhteensä {sum_ind:.0f}')\n",
    "print ('tallentajia',df['Tallentaja'].nunique())"
   ]
  },
  {
   "cell_type": "code",
   "execution_count": null,
   "metadata": {},
   "outputs": [],
   "source": [
    "top_recorders = df_last_7.groupby('Tallentaja', as_index=True, sort=False).agg({'Havainto id': 'count'}).sort_values(by=['Havainto id'],ascending=False)\n",
    "\n",
    "top_recorders.columns = ['Havaintorivejä']\n",
    "top_recorders.head(3)\n",
    "#print (f'{top_recorders.head(3)}')"
   ]
  },
  {
   "cell_type": "code",
   "execution_count": 4,
   "metadata": {},
   "outputs": [
    {
     "ename": "NameError",
     "evalue": "name 'timeframe' is not defined",
     "output_type": "error",
     "traceback": [
      "\u001b[0;31m---------------------------------------------------------------------------\u001b[0m",
      "\u001b[0;31mNameError\u001b[0m                                 Traceback (most recent call last)",
      "\u001b[0;32m<ipython-input-4-8b70de0375e3>\u001b[0m in \u001b[0;36m<module>\u001b[0;34m\u001b[0m\n\u001b[0;32m----> 1\u001b[0;31m \u001b[0mtimeframe\u001b[0m\u001b[0;34m(\u001b[0m\u001b[0mdf\u001b[0m\u001b[0;34m,\u001b[0m\u001b[0;36m15\u001b[0m\u001b[0;34m)\u001b[0m\u001b[0;34m.\u001b[0m\u001b[0mdescribe\u001b[0m\u001b[0;34m(\u001b[0m\u001b[0;34m)\u001b[0m\u001b[0;34m\u001b[0m\u001b[0m\n\u001b[0m",
      "\u001b[0;31mNameError\u001b[0m: name 'timeframe' is not defined"
     ]
    }
   ],
   "source": [
    "timeframe(df,15).describe()"
   ]
  },
  {
   "cell_type": "code",
   "execution_count": null,
   "metadata": {},
   "outputs": [],
   "source": [
    "from bokeh.plotting import figure\n",
    "from bokeh.io import show, output_notebook\n",
    "from bokeh.models import ColumnDataSource, LabelSet\n",
    "from bokeh.layouts import column\n",
    "from bokeh.embed import components\n",
    "\n",
    "# Create a blank figure with labels\n",
    "\n",
    "p = []\n",
    "periods = {0:7,1:30}\n",
    "\n",
    "for key,period in periods.items():\n",
    "    \n",
    "    data = timeframe(df,period).groupby(['Laji'], as_index=False, sort=False)[[\"Määrä\"]].sum().sort_values(by=['Määrä'],ascending=False).head(25)\n",
    "\n",
    "    source = ColumnDataSource(data)\n",
    "\n",
    "    high = data[data['Määrä'] > data['Määrä'].quantile(.9)]\n",
    "    low = data[data['Määrä'] <= data['Määrä'].quantile(.9)]\n",
    "\n",
    "    sourcehigh = ColumnDataSource(high)\n",
    "    sourcelow = ColumnDataSource(low)\n",
    "\n",
    "    lajit = source.data['Laji'].tolist()[::-1]\n",
    "    title = f'Tiiraan ilmoitettua yksilöä, viimeiset {period} päivää'\n",
    "\n",
    "    p.append(figure(plot_width = 640, plot_height = 500, x_axis_type='linear',\n",
    "               title = title,\n",
    "               y_range=lajit))\n",
    "\n",
    "    labels = LabelSet(x='Määrä', y='Laji', text='Määrä', level='glyph',x_offset=5, source=sourcelow, text_font_size='8pt', text_baseline='middle')\n",
    "    labelshigh = LabelSet(x='Määrä', y='Laji', text='Määrä', level='glyph',x_offset=-30, source=sourcehigh, text_font_size='8pt', text_baseline='middle', text_color='#FFFFFF')\n",
    "    \n",
    "    #visual\n",
    "    p[key].x_range.start = 0\n",
    "    p[key].toolbar.logo = None\n",
    "    p[key].toolbar_location = None\n",
    "    p[key].yaxis.major_tick_line_color = None  # turn off y-axis major ticks\n",
    "    p[key].yaxis.minor_tick_line_color = None\n",
    "    p[key].xaxis.minor_tick_line_color = None\n",
    "    p[key].ygrid.grid_line_color = None\n",
    "    p[key].toolbar.active_drag = None\n",
    "    p[key].hbar(y='Laji', right='Määrä', left=0, height=0.75, source=source)\n",
    "    p[key].add_layout(labels)\n",
    "    p[key].add_layout(labelshigh)\n",
    "\n",
    "# Set to output the plot in the notebook\n",
    "output_notebook()\n",
    "\n",
    "# Show the plot\n",
    "show(column(p[0],p[1]))\n",
    "\n",
    "#script, div = components(p[0])\n"
   ]
  },
  {
   "cell_type": "code",
   "execution_count": null,
   "metadata": {},
   "outputs": [],
   "source": [
    "%store script > tmp/script.txt\n",
    "%store div > tmp/div.txt"
   ]
  }
 ],
 "metadata": {
  "kernelspec": {
   "display_name": "Python 3",
   "language": "python",
   "name": "python3"
  },
  "language_info": {
   "codemirror_mode": {
    "name": "ipython",
    "version": 3
   },
   "file_extension": ".py",
   "mimetype": "text/x-python",
   "name": "python",
   "nbconvert_exporter": "python",
   "pygments_lexer": "ipython3",
   "version": "3.6.6"
  }
 },
 "nbformat": 4,
 "nbformat_minor": 2
}
