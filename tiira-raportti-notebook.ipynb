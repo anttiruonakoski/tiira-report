{
 "cells": [
  {
   "cell_type": "code",
   "execution_count": 73,
   "metadata": {},
   "outputs": [
    {
     "data": {
      "text/plain": [
       "Havainto id            int64\n",
       "Laji                  object\n",
       "Pvm1                  object\n",
       "Pvm2                  object\n",
       "Kello_hav_1           object\n",
       "Kello_hav_2           object\n",
       "Kunta                 object\n",
       "Paikka                object\n",
       "X-koord              float64\n",
       "Y-koord              float64\n",
       "Tarkkuus              object\n",
       "X-koord-linnun       float64\n",
       "Y-koord-linnun       float64\n",
       "Tarkkuus_linnun       object\n",
       "Paikannettu           object\n",
       "Lisätietoja           object\n",
       "Atlaskoodi           float64\n",
       "Tallentaja            object\n",
       "Tallennusaika         object\n",
       "Havainnoijat          object\n",
       "Salattu               object\n",
       "Tallenteita           object\n",
       "Koontihavainto        object\n",
       "Kuuluu havaintoon    float64\n",
       "Määrä                float64\n",
       "Kello_lintu_1         object\n",
       "Kello_lintu_2         object\n",
       "Sukupuoli             object\n",
       "Puku                  object\n",
       "Ikä                   object\n",
       "Tila                  object\n",
       "Lisätietoja_2         object\n",
       "Parvi                float64\n",
       "Bongattu              object\n",
       "Pesintä               object\n",
       "Epäsuora havainto    float64\n",
       "rivityyppi            object\n",
       "rivejä                 int64\n",
       "dtype: object"
      ]
     },
     "execution_count": 73,
     "metadata": {},
     "output_type": "execute_result"
    }
   ],
   "source": [
    "import numpy\n",
    "import pandas as pd\n",
    "\n",
    "pd.set_option(\"display.precision\",5)\n",
    "df = pd.read_csv('downloader/testidata_u_07102018.csv',sep='#')\n",
    "df.dtypes\n",
    "\n",
    "#df.describe()"
   ]
  },
  {
   "cell_type": "code",
   "execution_count": 70,
   "metadata": {},
   "outputs": [],
   "source": [
    "def timeframe(data, days=7):\n",
    "    \n",
    "    dataframe = data    \n",
    "    return dataframe\n",
    "\n",
    "df_7 = timeframe(df,7)"
   ]
  },
  {
   "cell_type": "code",
   "execution_count": 59,
   "metadata": {},
   "outputs": [
    {
     "name": "stdout",
     "output_type": "stream",
     "text": [
      "                                     Laji   Määrä\n",
      "19                                  tilhi  9282.0\n",
      "26                           laulujoutsen  8399.0\n",
      "113                            isokoskelo  6720.0\n",
      "23                                  kurki  4771.0\n",
      "55                              urpiainen  4151.0\n",
      "0                           räkättirastas  4118.0\n",
      "22                            järripeippo  3607.0\n",
      "145                   rastaslaji (Turdus)  3336.0\n",
      "52                                 peippo  2154.0\n",
      "136                             vesilintu  2085.0\n",
      "103                            tukkasotka  1878.0\n",
      "44                              sinisorsa  1693.0\n",
      "96                                haapana  1603.0\n",
      "95                                 telkkä  1463.0\n",
      "146                            pikkulintu  1356.0\n",
      "1                         punakylkirastas  1151.0\n",
      "102                                  tavi  1008.0\n",
      "57                               varpunen   847.0\n",
      "53                            talitiainen   803.0\n",
      "40                                  varis   731.0\n",
      "54                          pikkuvarpunen   637.0\n",
      "10                         niittykirvinen   583.0\n",
      "83                            sepelkyyhky   582.0\n",
      "31                               kuukkeli   580.0\n",
      "24                             metsähanhi   482.0\n",
      "39                              merimetso   425.0\n",
      "42                             pajusirkku   392.0\n",
      "64                            harmaalokki   378.0\n",
      "6                               sinirinta   378.0\n",
      "27                            hömötiainen   374.0\n",
      "..                                    ...     ...\n",
      "190      mehiläishaukka / hiirihaukkalaji     1.0\n",
      "187                     mustakurkku-uikku     1.0\n",
      "192                       lyhytnokkahanhi     1.0\n",
      "199                         turturikyyhky     1.0\n",
      "189     pähkinänakkeli (alalaji asiatica)     1.0\n",
      "194                           vuorihemppo     1.0\n",
      "185                            kerttulaji     1.0\n",
      "195  pähkinähakki (alalaji macrorhynchos)     1.0\n",
      "184                           heinäkurppa     1.0\n",
      "183                    tiiralaji (Sterna)     1.0\n",
      "196     pähkinänakkeli (alalaji europaea)     1.0\n",
      "56                                   liro     1.0\n",
      "179                       hiirihaukkalaji     1.0\n",
      "178                               fasaani     1.0\n",
      "72                             pikkusirri     1.0\n",
      "74                            pensastasku     1.0\n",
      "81                        mustaleppälintu     1.0\n",
      "85                         päiväpetolintu     1.0\n",
      "86                          suohaukkalaji     1.0\n",
      "88                            pikkusirkku     1.0\n",
      "127                           lehtokerttu     1.0\n",
      "138                            kuikkalaji     1.0\n",
      "140                        mehiläishaukka     1.0\n",
      "148                            lapinpöllö     1.0\n",
      "149                        ruskosuohaukka     1.0\n",
      "161                        västäräkkilaji     1.0\n",
      "162           selkälokki (alalaji fuscus)     1.0\n",
      "176                    iso päiväpetolintu     1.0\n",
      "200                           pikku-uikku     1.0\n",
      "164                           törmäpääsky     0.0\n",
      "\n",
      "[201 rows x 2 columns]\n"
     ]
    }
   ],
   "source": [
    "sum_individuals = df['Määrä'].sum()\n",
    "sum_species = df.groupby(['Laji'], as_index=False, sort=False)[[\"Määrä\"]].sum().sort_values(by=['Määrä'],ascending=False);\n",
    "print (sum_species)"
   ]
  },
  {
   "cell_type": "code",
   "execution_count": 60,
   "metadata": {
    "scrolled": true
   },
   "outputs": [
    {
     "name": "stdout",
     "output_type": "stream",
     "text": [
      "havaintoja yhteensä 73885\n",
      "tallentajia 189\n"
     ]
    }
   ],
   "source": [
    "print (f'havaintoja yhteensä {sum_individuals:.0f}')\n",
    "print ('tallentajia',df['Tallentaja'].nunique())"
   ]
  },
  {
   "cell_type": "code",
   "execution_count": 61,
   "metadata": {},
   "outputs": [
    {
     "name": "stdout",
     "output_type": "stream",
     "text": [
      "                         Havainto id\n",
      "Tallentaja                          \n",
      "Timo J. Leppänen                 616\n",
      "Jouni Parviainen                 354\n",
      "Pirkka Aalto                     268\n",
      "Jukka Simula                     241\n",
      "Simon Wright                     226\n",
      "Jorma V.A. Halonen               212\n",
      "Pekka Peltoniemi                 174\n",
      "Roope Ruokonen                   166\n",
      "Olli Osmonen                     153\n",
      "Jorma Salo                       150\n",
      "Jarno Luiro                      147\n",
      "Juhani Honkola                   147\n",
      "Jörgen Palmgren                  146\n",
      "Jouni Aikio                      144\n",
      "Eila Ylilokka                    135\n",
      "Matti Välimäki                   111\n",
      "Jukka Jokimäki                   110\n",
      "Markku Sirkka                    107\n",
      "Anssi Mäkinen                    107\n",
      "Jari Laitasalo                    79\n",
      "Leena Muotka                      78\n",
      "Vesa Nivala                       69\n",
      "Minna Kaan                        68\n",
      "Juha Takalo                       65\n",
      "Christer Casagrande               62\n",
      "Tapani Tapio                      60\n",
      "Teuvo Hietajärvi                  56\n",
      "Veikko Isomursu                   52\n",
      "Heikki Karhu                      50\n",
      "Jan-Erik Tanhua                   48\n",
      "...                              ...\n",
      "Sirkku-Sisko Nevalainen            1\n",
      "Tuomo Peltola                      1\n",
      "Anja Akujärvi                      1\n",
      "Petri Hakosalo                     1\n",
      "Olli Näyhä                         1\n",
      "Reijo Nenonen                      1\n",
      "markus oikarainen                  1\n",
      "Irma Lumiaho-Ollila                1\n",
      "Merja Värtö-Niemi                  1\n",
      "Anne-Mari Lehvola                  1\n",
      "Teppo Mutanen                      1\n",
      "Mika Knuuti                        1\n",
      "Ilkka Myllymäki                    1\n",
      "Veli Niemi                         1\n",
      "Jouko Olkio                        1\n",
      "Heikki Seppänen                    1\n",
      "Teemu Sirkkala                     1\n",
      "Kalevi Roivas                      1\n",
      "Jari Peteri                        1\n",
      "aila moksi                         1\n",
      "Jussi Hakalahti                    1\n",
      "Kimmo Salmi                        1\n",
      "Mervi Jurmu                        1\n",
      "Arto Nurmi                         1\n",
      "Jari Lehti                         1\n",
      "Markku Lappalainen                 1\n",
      "Heini Koivuniemi                   1\n",
      "Mikko Joensuu                      1\n",
      "Pekka Valle                        1\n",
      "Tiina Saarijärvi                   1\n",
      "\n",
      "[189 rows x 1 columns]\n"
     ]
    }
   ],
   "source": [
    "top_recorders = df_7.groupby(['Tallentaja'], as_index=True, sort=False).agg({'Havainto id': 'count'}).sort_values(by=['Havainto id'],ascending=False);\n",
    "\n",
    "print (f'{top_recorders}')"
   ]
  },
  {
   "cell_type": "code",
   "execution_count": null,
   "metadata": {},
   "outputs": [],
   "source": []
  },
  {
   "cell_type": "code",
   "execution_count": null,
   "metadata": {},
   "outputs": [],
   "source": []
  },
  {
   "cell_type": "code",
   "execution_count": null,
   "metadata": {},
   "outputs": [],
   "source": []
  }
 ],
 "metadata": {
  "kernelspec": {
   "display_name": "Python 3",
   "language": "python",
   "name": "python3"
  },
  "language_info": {
   "codemirror_mode": {
    "name": "ipython",
    "version": 3
   },
   "file_extension": ".py",
   "mimetype": "text/x-python",
   "name": "python",
   "nbconvert_exporter": "python",
   "pygments_lexer": "ipython3",
   "version": "3.6.6"
  }
 },
 "nbformat": 4,
 "nbformat_minor": 2
}
